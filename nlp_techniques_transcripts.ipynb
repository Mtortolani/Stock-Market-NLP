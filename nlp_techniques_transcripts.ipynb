{
  "nbformat": 4,
  "nbformat_minor": 0,
  "metadata": {
    "colab": {
      "name": "nlp-techniques-transcripts.ipynb",
      "provenance": [],
      "authorship_tag": "ABX9TyNOo4wSpp2HF3whdVT5fzpI"
    },
    "kernelspec": {
      "name": "python3",
      "display_name": "Python 3"
    },
    "language_info": {
      "name": "python"
    }
  },
  "cells": [
    {
      "cell_type": "code",
      "metadata": {
        "colab": {
          "base_uri": "https://localhost:8080/"
        },
        "id": "Prk7NByBiccJ",
        "outputId": "9fc260c9-4657-4354-808f-a6336a2c9e75"
      },
      "source": [
        "from sklearn.feature_extraction.text import CountVectorizer \n",
        "\n",
        "text = [\"It took little time realize that The iPhone 6 significantly higher that likely accelerated upgrades current year ahead those And future holds well see But Im optimistic future I signs positive I installed base gotten incredibly large I switcher rate highest ever I smartphone itself led iPhone instrumental important peoples lives Its essential And things coming fall things weve announced iOS 10 hopefully youre running beta things instrumental And AI makes more As phone assistant its youre going leave it And I things vectors incredibly positive\"]\n",
        "vect = CountVectorizer()\n",
        "vect.fit(text)\n",
        "print(\"vocabulary: \\n\", vect.vocabulary_)\n",
        "print(\"vocabulary size: \\n\", len(vect.vocabulary_))\n",
        "\n",
        "bag_of_words = vect.transform(text)\n",
        "bag_of_words\n",
        "#number of times each unique word appears in this text\n",
        "bag_of_words_array = bag_of_words.toarray()\n",
        "bag_of_words_array\n",
        "feature_names = vect.get_feature_names()\n",
        "feature_names"
      ],
      "execution_count": 11,
      "outputs": [
        {
          "output_type": "stream",
          "name": "stdout",
          "text": [
            "vocabulary: \n",
            " {'it': 30, 'took': 58, 'little': 37, 'time': 57, 'realize': 46, 'that': 53, 'the': 54, 'iphone': 29, 'significantly': 49, 'higher': 19, 'likely': 36, 'accelerated': 1, 'upgrades': 59, 'current': 12, 'year': 63, 'ahead': 2, 'those': 56, 'and': 4, 'future': 16, 'holds': 21, 'well': 61, 'see': 48, 'but': 10, 'im': 23, 'optimistic': 41, 'signs': 50, 'positive': 44, 'installed': 26, 'base': 8, 'gotten': 18, 'incredibly': 25, 'large': 33, 'switcher': 52, 'rate': 45, 'highest': 20, 'ever': 14, 'smartphone': 51, 'itself': 32, 'led': 35, 'instrumental': 27, 'important': 24, 'peoples': 42, 'lives': 38, 'its': 31, 'essential': 13, 'things': 55, 'coming': 11, 'fall': 15, 'weve': 62, 'announced': 5, 'ios': 28, '10': 0, 'hopefully': 22, 'youre': 64, 'running': 47, 'beta': 9, 'ai': 3, 'makes': 39, 'more': 40, 'as': 6, 'phone': 43, 'assistant': 7, 'going': 17, 'leave': 34, 'vectors': 60}\n",
            "vocabulary size: \n",
            " 65\n"
          ]
        },
        {
          "output_type": "stream",
          "name": "stderr",
          "text": [
            "/usr/local/lib/python3.7/dist-packages/sklearn/utils/deprecation.py:87: FutureWarning: Function get_feature_names is deprecated; get_feature_names is deprecated in 1.0 and will be removed in 1.2. Please use get_feature_names_out instead.\n",
            "  warnings.warn(msg, category=FutureWarning)\n"
          ]
        },
        {
          "output_type": "execute_result",
          "data": {
            "text/plain": [
              "['10',\n",
              " 'accelerated',\n",
              " 'ahead',\n",
              " 'ai',\n",
              " 'and',\n",
              " 'announced',\n",
              " 'as',\n",
              " 'assistant',\n",
              " 'base',\n",
              " 'beta',\n",
              " 'but',\n",
              " 'coming',\n",
              " 'current',\n",
              " 'essential',\n",
              " 'ever',\n",
              " 'fall',\n",
              " 'future',\n",
              " 'going',\n",
              " 'gotten',\n",
              " 'higher',\n",
              " 'highest',\n",
              " 'holds',\n",
              " 'hopefully',\n",
              " 'im',\n",
              " 'important',\n",
              " 'incredibly',\n",
              " 'installed',\n",
              " 'instrumental',\n",
              " 'ios',\n",
              " 'iphone',\n",
              " 'it',\n",
              " 'its',\n",
              " 'itself',\n",
              " 'large',\n",
              " 'leave',\n",
              " 'led',\n",
              " 'likely',\n",
              " 'little',\n",
              " 'lives',\n",
              " 'makes',\n",
              " 'more',\n",
              " 'optimistic',\n",
              " 'peoples',\n",
              " 'phone',\n",
              " 'positive',\n",
              " 'rate',\n",
              " 'realize',\n",
              " 'running',\n",
              " 'see',\n",
              " 'significantly',\n",
              " 'signs',\n",
              " 'smartphone',\n",
              " 'switcher',\n",
              " 'that',\n",
              " 'the',\n",
              " 'things',\n",
              " 'those',\n",
              " 'time',\n",
              " 'took',\n",
              " 'upgrades',\n",
              " 'vectors',\n",
              " 'well',\n",
              " 'weve',\n",
              " 'year',\n",
              " 'youre']"
            ]
          },
          "metadata": {},
          "execution_count": 11
        }
      ]
    },
    {
      "cell_type": "code",
      "metadata": {
        "colab": {
          "base_uri": "https://localhost:8080/"
        },
        "id": "v670SIoLm_cU",
        "outputId": "8a8f08c4-9b1b-480c-d233-588b7b376e83"
      },
      "source": [
        "from sklearn.feature_extraction.text import TfidfVectorizer\n",
        "text = [\"It took little time realize that The iPhone 6 significantly higher that likely accelerated upgrades current year ahead those And future holds well see But Im optimistic future I signs positive I installed base gotten incredibly large I switcher rate highest ever I smartphone itself led iPhone instrumental important peoples lives Its essential And things coming fall things weve announced iOS 10 hopefully youre running beta things instrumental And AI makes more As phone assistant its youre going leave it And I things vectors incredibly positive\"]\n",
        "vect = TfidfVectorizer().fit(text)\n",
        "print(\"Number of features:\", len(vect.get_feature_names()))\n",
        "\n",
        "#encode the words in the text based on the vocabulary built using tfidf\n",
        "bag_of_words = vect.transform(text)\n",
        "bag_of_words_array = bag_of_words.toarray()\n",
        "bag_of_words_array\n",
        "\n",
        "feature_names = vect.get_feature_names()\n",
        "feature_names\n"
      ],
      "execution_count": 15,
      "outputs": [
        {
          "output_type": "stream",
          "name": "stdout",
          "text": [
            "Number of features: 65\n"
          ]
        },
        {
          "output_type": "stream",
          "name": "stderr",
          "text": [
            "/usr/local/lib/python3.7/dist-packages/sklearn/utils/deprecation.py:87: FutureWarning: Function get_feature_names is deprecated; get_feature_names is deprecated in 1.0 and will be removed in 1.2. Please use get_feature_names_out instead.\n",
            "  warnings.warn(msg, category=FutureWarning)\n",
            "/usr/local/lib/python3.7/dist-packages/sklearn/utils/deprecation.py:87: FutureWarning: Function get_feature_names is deprecated; get_feature_names is deprecated in 1.0 and will be removed in 1.2. Please use get_feature_names_out instead.\n",
            "  warnings.warn(msg, category=FutureWarning)\n"
          ]
        },
        {
          "output_type": "execute_result",
          "data": {
            "text/plain": [
              "['10',\n",
              " 'accelerated',\n",
              " 'ahead',\n",
              " 'ai',\n",
              " 'and',\n",
              " 'announced',\n",
              " 'as',\n",
              " 'assistant',\n",
              " 'base',\n",
              " 'beta',\n",
              " 'but',\n",
              " 'coming',\n",
              " 'current',\n",
              " 'essential',\n",
              " 'ever',\n",
              " 'fall',\n",
              " 'future',\n",
              " 'going',\n",
              " 'gotten',\n",
              " 'higher',\n",
              " 'highest',\n",
              " 'holds',\n",
              " 'hopefully',\n",
              " 'im',\n",
              " 'important',\n",
              " 'incredibly',\n",
              " 'installed',\n",
              " 'instrumental',\n",
              " 'ios',\n",
              " 'iphone',\n",
              " 'it',\n",
              " 'its',\n",
              " 'itself',\n",
              " 'large',\n",
              " 'leave',\n",
              " 'led',\n",
              " 'likely',\n",
              " 'little',\n",
              " 'lives',\n",
              " 'makes',\n",
              " 'more',\n",
              " 'optimistic',\n",
              " 'peoples',\n",
              " 'phone',\n",
              " 'positive',\n",
              " 'rate',\n",
              " 'realize',\n",
              " 'running',\n",
              " 'see',\n",
              " 'significantly',\n",
              " 'signs',\n",
              " 'smartphone',\n",
              " 'switcher',\n",
              " 'that',\n",
              " 'the',\n",
              " 'things',\n",
              " 'those',\n",
              " 'time',\n",
              " 'took',\n",
              " 'upgrades',\n",
              " 'vectors',\n",
              " 'well',\n",
              " 'weve',\n",
              " 'year',\n",
              " 'youre']"
            ]
          },
          "metadata": {},
          "execution_count": 15
        }
      ]
    },
    {
      "cell_type": "code",
      "metadata": {
        "colab": {
          "base_uri": "https://localhost:8080/"
        },
        "id": "QmloGlOxx2y0",
        "outputId": "420bc730-a812-4b9b-da14-e4d8a52be735"
      },
      "source": [
        "from sklearn.feature_extraction.text import TfidfVectorizer\n",
        "\n",
        "#set the minimum of how many times the word should appear before it is included in the vocabulary\n",
        "vect = TfidfVectorizer(ngram_range= (1, 3)).fit(text)\n",
        "\n",
        "bag_of_words = vect.transform(text)\n",
        "\n",
        "feature_names = vect.get_feature_names()\n",
        "\n",
        "print(\"number of features: \", len(feature_names))\n",
        "\n",
        "feature_names[::10]"
      ],
      "execution_count": 22,
      "outputs": [
        {
          "output_type": "stream",
          "name": "stdout",
          "text": [
            "number of features:  221\n"
          ]
        },
        {
          "output_type": "stream",
          "name": "stderr",
          "text": [
            "/usr/local/lib/python3.7/dist-packages/sklearn/utils/deprecation.py:87: FutureWarning: Function get_feature_names is deprecated; get_feature_names is deprecated in 1.0 and will be removed in 1.2. Please use get_feature_names_out instead.\n",
            "  warnings.warn(msg, category=FutureWarning)\n"
          ]
        },
        {
          "output_type": "execute_result",
          "data": {
            "text/plain": [
              "['10',\n",
              " 'ai makes',\n",
              " 'announced',\n",
              " 'base gotten',\n",
              " 'coming fall things',\n",
              " 'fall',\n",
              " 'going leave it',\n",
              " 'holds',\n",
              " 'important peoples',\n",
              " 'instrumental and',\n",
              " 'iphone significantly',\n",
              " 'its youre',\n",
              " 'leave it and',\n",
              " 'lives',\n",
              " 'optimistic future',\n",
              " 'positive installed base',\n",
              " 'see',\n",
              " 'smartphone itself',\n",
              " 'the',\n",
              " 'things weve',\n",
              " 'took little time',\n",
              " 'weve',\n",
              " 'youre running beta']"
            ]
          },
          "metadata": {},
          "execution_count": 22
        }
      ]
    }
  ]
}